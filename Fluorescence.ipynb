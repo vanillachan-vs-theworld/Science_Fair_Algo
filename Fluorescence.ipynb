import cv2
import numpy as np
import glob
from main.py import pics

#images = glob.glob(r"C:\Users\jun63\Downloads\Cropped Science Fair Folder\Hand Soap\25.0_ Hand Soap/*.jpg")
#img1 = cv2.imread(r"C:\Users\jun63\Downloads\Cropped Science Fair Folder\Distilled Water (Control)/IMG_3819")
images = (pics)


i = 0
while i < len(images):
    
    img1 = cv2.imread(images[i])
    b, g, r = cv2.split(img1)

    ttl = img1.size / 3 
    B1 = float(np.sum(b)) / ttl 
    G1 = float(np.sum(g)) / ttl
    R1 = float(np.sum(r)) / ttl
    total = R1+G1+B1
    B = float(np.sum(b)) / ttl / total
    G = float(np.sum(g)) / ttl / total
    R = float(np.sum(r)) / ttl / total
    
    B_mean1 = list()
    G_mean1 = list()
    R_mean1 = list()

    B_mean1.append(B)
    G_mean1.append(G)
    R_mean1.append(R)

    print(B_mean1)
    print(G_mean1)
    print(R_mean1)

    i = i + 1






